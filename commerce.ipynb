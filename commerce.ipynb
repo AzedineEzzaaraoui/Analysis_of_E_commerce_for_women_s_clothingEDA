{
 "cells": [
  {
   "cell_type": "code",
   "execution_count": 4,
   "id": "20bc2b07-8426-43db-b8e6-7e1c3549195c",
   "metadata": {},
   "outputs": [],
   "source": [
    "import pandas as pd\n",
    "import os\n",
    "from datetime import datetime\n",
    "chemin_fichier = r\"C:\\Users\\user\\Desktop\\Python\\EDA\\EDA_Women\\EDA_Women\\Data\\Reviews_Dataset.csv\"\n",
    "\n",
    "\n"
   ]
  },
  {
   "cell_type": "code",
   "execution_count": 5,
   "id": "7bec8802-83d7-42e0-b469-8b3d13f231a7",
   "metadata": {},
   "outputs": [
    {
     "name": "stdout",
     "output_type": "stream",
     "text": [
      "       ClothingID  Age                                              Title  \\\n",
      "0             767   33                                                NaN   \n",
      "1            1080   34                                                NaN   \n",
      "2            1077   60                            Some major design flaws   \n",
      "3            1049   50                                   My favorite buy!   \n",
      "4             847   47                                   Flattering shirt   \n",
      "...           ...  ...                                                ...   \n",
      "23481        1104   34                     Great dress for many occasions   \n",
      "23482         862   48                         Wish it was made of cotton   \n",
      "23483        1104   31                              Cute, but see through   \n",
      "23484        1084   28  Very cute dress, perfect for summer parties an...   \n",
      "23485        1104   52                    Please make more like this one!   \n",
      "\n",
      "                                              ReviewText  Rating  Recommended  \\\n",
      "0      Absolutely wonderful - silky and sexy and comf...       4            1   \n",
      "1      Love this dress!  it's sooo pretty.  i happene...       5            1   \n",
      "2      I had such high hopes for this dress and reall...       3            0   \n",
      "3      I love, love, love this jumpsuit. it's fun, fl...       5            1   \n",
      "4      This shirt is very flattering to all due to th...       5            1   \n",
      "...                                                  ...     ...          ...   \n",
      "23481  I was very happy to snag this dress at such a ...       5            1   \n",
      "23482  It reminds me of maternity clothes. soft, stre...       3            1   \n",
      "23483  This fit well, but the top was very see throug...       3            0   \n",
      "23484  I bought this dress for a wedding i have this ...       3            1   \n",
      "23485  This dress in a lovely platinum is feminine an...       5            1   \n",
      "\n",
      "       Feedback        Division Department      Class      DateChargement  \n",
      "0             0       Initmates   Intimate  Intimates 2022-01-11 07:18:02  \n",
      "1             4         General    Dresses    Dresses 2022-01-11 07:18:02  \n",
      "2             0         General    Dresses    Dresses 2022-01-11 07:18:02  \n",
      "3             0  General Petite    Bottoms      Pants 2022-01-11 07:18:02  \n",
      "4             6         General       Tops    Blouses 2022-01-11 07:18:02  \n",
      "...         ...             ...        ...        ...                 ...  \n",
      "23481         0  General Petite    Dresses    Dresses 2022-01-11 07:18:02  \n",
      "23482         0  General Petite       Tops      Knits 2022-01-11 07:18:02  \n",
      "23483         1  General Petite    Dresses    Dresses 2022-01-11 07:18:02  \n",
      "23484         2         General    Dresses    Dresses 2022-01-11 07:18:02  \n",
      "23485        22  General Petite    Dresses    Dresses 2022-01-11 07:18:02  \n",
      "\n",
      "[23486 rows x 11 columns]\n"
     ]
    }
   ],
   "source": [
    "\n",
    "#Add colone date_modification\n",
    "timestamp_modification = os.path.getmtime(chemin_fichier)\n",
    "df = pd.read_csv(chemin_fichier)\n",
    "date_modification = datetime.fromtimestamp(timestamp_modification)\n",
    "df['date_chargement'] = date_modification\n",
    "\n",
    "#cleaning data ( deletion of colone)\n",
    "df = df.drop(columns=['Unnamed: 11', 'Unnamed: 12' ,'Unnamed: 0' ])\n",
    "\n",
    "#rename colones  data ( )\n",
    "df = df.rename(columns={\"Class Name \": \"Class\"})\n",
    "df = df.rename(columns={\"Review Text\": \"ReviewText\"})\n",
    "df = df.rename(columns={\"date_chargement\": \"DateChargement\"})\n",
    "df = df.rename(columns={\"Division Name\": \"Division\"})\n",
    "df = df.rename(columns={\"Department Name\": \"Department\"})\n",
    "df = df.rename(columns={\"Positive Feedback Count\": \"Feedback\"})\n",
    "df = df.rename(columns={\"Recommended IND\": \"Recommended\"}) \n",
    "df = df.rename(columns={\"Clothing ID\": \"ClothingID\"}) \n",
    "\n",
    "print(df)"
   ]
  },
  {
   "cell_type": "code",
   "execution_count": 6,
   "id": "31a5d5f5-34ad-46c2-96a8-7bb6b1ae98b3",
   "metadata": {},
   "outputs": [
    {
     "name": "stdout",
     "output_type": "stream",
     "text": [
      "0\n"
     ]
    }
   ],
   "source": [
    "#cleaning data ( les nulles) \n",
    "df.isnull()\n",
    "df.dropna(inplace=True)\n",
    "#print( df.isnull().sum())\n",
    "#cleaning data ( les lignes dupliqués) \n",
    "print(df.duplicated().sum())\n"
   ]
  },
  {
   "cell_type": "code",
   "execution_count": 7,
   "id": "238ae06b-4449-412b-b8d0-1a87941d4ef7",
   "metadata": {},
   "outputs": [
    {
     "data": {
      "text/html": [
       "<div>\n",
       "<style scoped>\n",
       "    .dataframe tbody tr th:only-of-type {\n",
       "        vertical-align: middle;\n",
       "    }\n",
       "\n",
       "    .dataframe tbody tr th {\n",
       "        vertical-align: top;\n",
       "    }\n",
       "\n",
       "    .dataframe thead th {\n",
       "        text-align: right;\n",
       "    }\n",
       "</style>\n",
       "<table border=\"1\" class=\"dataframe\">\n",
       "  <thead>\n",
       "    <tr style=\"text-align: right;\">\n",
       "      <th></th>\n",
       "      <th>ClothingID</th>\n",
       "      <th>Age</th>\n",
       "      <th>Rating</th>\n",
       "      <th>Recommended</th>\n",
       "      <th>Feedback</th>\n",
       "      <th>DateChargement</th>\n",
       "    </tr>\n",
       "  </thead>\n",
       "  <tbody>\n",
       "    <tr>\n",
       "      <th>count</th>\n",
       "      <td>19662.000000</td>\n",
       "      <td>19662.000000</td>\n",
       "      <td>19662.000000</td>\n",
       "      <td>19662.000000</td>\n",
       "      <td>19662.000000</td>\n",
       "      <td>19662</td>\n",
       "    </tr>\n",
       "    <tr>\n",
       "      <th>mean</th>\n",
       "      <td>921.297274</td>\n",
       "      <td>43.260808</td>\n",
       "      <td>4.183145</td>\n",
       "      <td>0.818177</td>\n",
       "      <td>2.652477</td>\n",
       "      <td>2022-01-11 07:18:02</td>\n",
       "    </tr>\n",
       "    <tr>\n",
       "      <th>min</th>\n",
       "      <td>1.000000</td>\n",
       "      <td>18.000000</td>\n",
       "      <td>1.000000</td>\n",
       "      <td>0.000000</td>\n",
       "      <td>0.000000</td>\n",
       "      <td>2022-01-11 07:18:02</td>\n",
       "    </tr>\n",
       "    <tr>\n",
       "      <th>25%</th>\n",
       "      <td>861.000000</td>\n",
       "      <td>34.000000</td>\n",
       "      <td>4.000000</td>\n",
       "      <td>1.000000</td>\n",
       "      <td>0.000000</td>\n",
       "      <td>2022-01-11 07:18:02</td>\n",
       "    </tr>\n",
       "    <tr>\n",
       "      <th>50%</th>\n",
       "      <td>936.000000</td>\n",
       "      <td>41.000000</td>\n",
       "      <td>5.000000</td>\n",
       "      <td>1.000000</td>\n",
       "      <td>1.000000</td>\n",
       "      <td>2022-01-11 07:18:02</td>\n",
       "    </tr>\n",
       "    <tr>\n",
       "      <th>75%</th>\n",
       "      <td>1078.000000</td>\n",
       "      <td>52.000000</td>\n",
       "      <td>5.000000</td>\n",
       "      <td>1.000000</td>\n",
       "      <td>3.000000</td>\n",
       "      <td>2022-01-11 07:18:02</td>\n",
       "    </tr>\n",
       "    <tr>\n",
       "      <th>max</th>\n",
       "      <td>1205.000000</td>\n",
       "      <td>99.000000</td>\n",
       "      <td>5.000000</td>\n",
       "      <td>1.000000</td>\n",
       "      <td>122.000000</td>\n",
       "      <td>2022-01-11 07:18:02</td>\n",
       "    </tr>\n",
       "    <tr>\n",
       "      <th>std</th>\n",
       "      <td>200.227528</td>\n",
       "      <td>12.258122</td>\n",
       "      <td>1.112224</td>\n",
       "      <td>0.385708</td>\n",
       "      <td>5.834285</td>\n",
       "      <td>NaN</td>\n",
       "    </tr>\n",
       "  </tbody>\n",
       "</table>\n",
       "</div>"
      ],
      "text/plain": [
       "         ClothingID           Age        Rating   Recommended      Feedback  \\\n",
       "count  19662.000000  19662.000000  19662.000000  19662.000000  19662.000000   \n",
       "mean     921.297274     43.260808      4.183145      0.818177      2.652477   \n",
       "min        1.000000     18.000000      1.000000      0.000000      0.000000   \n",
       "25%      861.000000     34.000000      4.000000      1.000000      0.000000   \n",
       "50%      936.000000     41.000000      5.000000      1.000000      1.000000   \n",
       "75%     1078.000000     52.000000      5.000000      1.000000      3.000000   \n",
       "max     1205.000000     99.000000      5.000000      1.000000    122.000000   \n",
       "std      200.227528     12.258122      1.112224      0.385708      5.834285   \n",
       "\n",
       "            DateChargement  \n",
       "count                19662  \n",
       "mean   2022-01-11 07:18:02  \n",
       "min    2022-01-11 07:18:02  \n",
       "25%    2022-01-11 07:18:02  \n",
       "50%    2022-01-11 07:18:02  \n",
       "75%    2022-01-11 07:18:02  \n",
       "max    2022-01-11 07:18:02  \n",
       "std                    NaN  "
      ]
     },
     "execution_count": 7,
     "metadata": {},
     "output_type": "execute_result"
    }
   ],
   "source": [
    "df.describe()"
   ]
  },
  {
   "cell_type": "code",
   "execution_count": 7,
   "id": "2c73df0a-5dde-41a4-a867-bd0527b83720",
   "metadata": {},
   "outputs": [
    {
     "name": "stdout",
     "output_type": "stream",
     "text": [
      "[18, 19, 20, 21, 22, 23, 24, 25, 26, 27, 28, 29, 30, 31, 32, 33, 34, 35, 36, 37, 38, 39, 40, 41, 42, 43, 44, 45, 46, 47, 48, 49, 50, 51, 52, 53, 54, 55, 56, 57, 58, 59, 60, 61, 62, 63, 64, 65, 66, 67, 68, 69, 70, 71, 72, 73, 74, 75, 76, 77, 78, 79, 80, 81, 82, 83, 84, 85, 86, 87, 89, 90, 91, 92, 93, 94, 99]\n"
     ]
    }
   ],
   "source": [
    "print(sorted(df['Age'].unique()))"
   ]
  },
  {
   "cell_type": "code",
   "execution_count": 8,
   "id": "1619adb2-0e12-4360-9093-8d2a01fe8426",
   "metadata": {},
   "outputs": [
    {
     "name": "stdout",
     "output_type": "stream",
     "text": [
      "Age\n",
      "39    1103\n",
      "35     728\n",
      "34     669\n",
      "36     664\n",
      "38     658\n",
      "      ... \n",
      "93       2\n",
      "99       1\n",
      "92       1\n",
      "94       1\n",
      "87       1\n",
      "Name: count, Length: 77, dtype: int64\n"
     ]
    }
   ],
   "source": [
    "\n",
    "print(df['Age'].value_counts())\n",
    "\n"
   ]
  },
  {
   "cell_type": "code",
   "execution_count": 22,
   "id": "3c11ee55-d1e0-45e3-8d5b-ded969f839c0",
   "metadata": {},
   "outputs": [
    {
     "data": {
      "image/png": "[encoded data removed]",
      "text/plain": [
       "<Figure size 640x480 with 1 Axes>"
      ]
     },
     "metadata": {},
     "output_type": "display_data"
    }
   ],
   "source": [
    "#data visualisation\n",
    "import pandas as pd\n",
    "import seaborn as sns\n",
    "import matplotlib.pyplot as plt\n",
    "\n",
    "age_counts = df['Age'].value_counts()\n",
    "\n",
    "# Créer l'histogramme avec x comme indices et y comme les fréquences\n",
    "plt.bar(age_counts.index, age_counts.values)\n",
    "\n",
    "# Ajouter un titre et des labels\n",
    "plt.title(\"Histogramme des âges\")\n",
    "plt.xlabel(\"Âge\")\n",
    "plt.ylabel(\"Fréquence\")\n",
    "\n",
    "# Afficher le graphique\n",
    "plt.show()\n"
   ]
  },
  {
   "cell_type": "code",
   "execution_count": 23,
   "id": "6a0aa531-c1cd-44d5-b2c2-72bfbc1aadc0",
   "metadata": {},
   "outputs": [
    {
     "name": "stderr",
     "output_type": "stream",
     "text": [
      "C:\\Users\\user\\anaconda3\\Lib\\site-packages\\seaborn\\_oldcore.py:1119: FutureWarning: use_inf_as_na option is deprecated and will be removed in a future version. Convert inf values to NaN before operating instead.\n",
      "  with pd.option_context('mode.use_inf_as_na', True):\n",
      "C:\\Users\\user\\anaconda3\\Lib\\site-packages\\seaborn\\_oldcore.py:1119: FutureWarning: use_inf_as_na option is deprecated and will be removed in a future version. Convert inf values to NaN before operating instead.\n",
      "  with pd.option_context('mode.use_inf_as_na', True):\n"
     ]
    },
    {
     "data": {
      "image/png": "[encoded data removed]",
      "text/plain": [
       "<Figure size 640x480 with 1 Axes>"
      ]
     },
     "metadata": {},
     "output_type": "display_data"
    }
   ],
   "source": [
    "# Calculer les fréquences des âges\n",
    "age_counts = df['Age'].value_counts().sort_index()  # trié par âge\n",
    "\n",
    "# Créer le graphique linéaire\n",
    "sns.lineplot(x=age_counts.index, y=age_counts.values, marker=\"o\", color=\"blue\")\n",
    "\n",
    "# Ajouter un titre et des labels\n",
    "plt.title(\"Distribution des âges avec Lineplot\")\n",
    "plt.xlabel(\"Âge\")\n",
    "plt.ylabel(\"Fréquence\")\n",
    "\n",
    "# Afficher le graphique\n",
    "plt.show()"
   ]
  },
  {
   "cell_type": "code",
   "execution_count": 27,
   "id": "026e3939-b4bb-4b10-a3cd-63e91bd21b68",
   "metadata": {},
   "outputs": [
    {
     "name": "stdout",
     "output_type": "stream",
     "text": [
      "Department\n",
      "Tops        8713\n",
      "Dresses     5371\n",
      "Bottoms     3184\n",
      "Intimate    1408\n",
      "Jackets      879\n",
      "Trend        107\n",
      "Name: count, dtype: int64\n"
     ]
    },
    {
     "data": {
      "image/png": "[encoded data removed]",
      "text/plain": [
       "<Figure size 640x480 with 1 Axes>"
      ]
     },
     "metadata": {},
     "output_type": "display_data"
    }
   ],
   "source": [
    "#data visualisation\n",
    "import pandas as pd\n",
    "import seaborn as sns\n",
    "import matplotlib.pyplot as plt\n",
    "\n",
    "Department_counts = df['Department'].value_counts()\n",
    "\n",
    "print(Department_counts)\n",
    "\n",
    "# Créer l'histogramme avec x comme indices et y comme les fréquences\n",
    "plt.bar(Department_counts.index,Department_counts.values , color='red')\n",
    "\n",
    "for i, value in enumerate(Department_counts.values):\n",
    "    plt.text(i, value + 0.1, str(value), ha='center', va='bottom', fontsize=10)\n",
    "\n",
    "# Ajouter un titre et des labels\n",
    "plt.title(\"Histogramme des Department \")\n",
    "plt.xlabel(\"Department\")\n",
    "plt.ylabel(\"Fréquence\")\n",
    "\n",
    "# Afficher le graphique\n",
    "plt.show()\n"
   ]
  },
  {
   "cell_type": "code",
   "execution_count": 28,
   "id": "3067133c-41cf-47da-ad25-4900a2f79237",
   "metadata": {},
   "outputs": [
    {
     "data": {
      "image/png": "[encoded data removed]",
      "text/plain": [
       "<Figure size 700x700 with 1 Axes>"
      ]
     },
     "metadata": {},
     "output_type": "display_data"
    }
   ],
   "source": [
    "# Créer un pie chart avec des labels pivotés\n",
    "import pandas as pd\n",
    "import seaborn as sns\n",
    "import matplotlib.pyplot as plt\n",
    "plt.figure(figsize=(7, 7))\n",
    "wedges, texts, autotexts = plt.pie(Department_counts.values, labels=Department_counts.index, autopct='%1.1f%%', startangle=90, \n",
    "                                   colors=['#ff9999','#66b3ff','#99ff99','#ffcc99'], \n",
    "                                   pctdistance=0.85, labeldistance=1.1)\n",
    "\n",
    "# Rotation des étiquettes pour une meilleure lisibilité\n",
    "for text in texts:\n",
    "    text.set_rotation(90)\n",
    "\n",
    "# Ajouter un titre\n",
    "plt.title(\"Répartition des départements\")\n",
    "\n",
    "# Afficher le graphique\n",
    "plt.show()\n"
   ]
  },
  {
   "cell_type": "code",
   "execution_count": 10,
   "id": "13dcbaf1-cf63-43c7-937f-5de5eafbf4be",
   "metadata": {},
   "outputs": [
    {
     "name": "stdout",
     "output_type": "stream",
     "text": [
      "       Clothing ID  Age                                              Title  \\\n",
      "2             1077   60                            Some major design flaws   \n",
      "3             1049   50                                   My favorite buy!   \n",
      "4              847   47                                   Flattering shirt   \n",
      "5             1080   49                            Not for the very petite   \n",
      "6              858   39                               Cagrcoal shimmer fun   \n",
      "...            ...  ...                                                ...   \n",
      "23481         1104   34                     Great dress for many occasions   \n",
      "23482          862   48                         Wish it was made of cotton   \n",
      "23483         1104   31                              Cute, but see through   \n",
      "23484         1084   28  Very cute dress, perfect for summer parties an...   \n",
      "23485         1104   52                    Please make more like this one!   \n",
      "\n",
      "                                             Review Text  Rating  \\\n",
      "2      I had such high hopes for this dress and reall...       3   \n",
      "3      I love, love, love this jumpsuit. it's fun, fl...       5   \n",
      "4      This shirt is very flattering to all due to th...       5   \n",
      "5      I love tracy reese dresses, but this one is no...       2   \n",
      "6      I aded this in my basket at hte last mintue to...       5   \n",
      "...                                                  ...     ...   \n",
      "23481  I was very happy to snag this dress at such a ...       5   \n",
      "23482  It reminds me of maternity clothes. soft, stre...       3   \n",
      "23483  This fit well, but the top was very see throug...       3   \n",
      "23484  I bought this dress for a wedding i have this ...       3   \n",
      "23485  This dress in a lovely platinum is feminine an...       5   \n",
      "\n",
      "       Recommended IND  Positive Feedback Count   Division Name  \\\n",
      "2                    0                        0         General   \n",
      "3                    1                        0  General Petite   \n",
      "4                    1                        6         General   \n",
      "5                    0                        4         General   \n",
      "6                    1                        1  General Petite   \n",
      "...                ...                      ...             ...   \n",
      "23481                1                        0  General Petite   \n",
      "23482                1                        0  General Petite   \n",
      "23483                0                        1  General Petite   \n",
      "23484                1                        2         General   \n",
      "23485                1                       22  General Petite   \n",
      "\n",
      "      Department Name Class Name      date_chargement  \n",
      "2             Dresses     Dresses 2022-01-11 07:18:02  \n",
      "3             Bottoms       Pants 2022-01-11 07:18:02  \n",
      "4                Tops     Blouses 2022-01-11 07:18:02  \n",
      "5             Dresses     Dresses 2022-01-11 07:18:02  \n",
      "6                Tops       Knits 2022-01-11 07:18:02  \n",
      "...               ...         ...                 ...  \n",
      "23481         Dresses     Dresses 2022-01-11 07:18:02  \n",
      "23482            Tops       Knits 2022-01-11 07:18:02  \n",
      "23483         Dresses     Dresses 2022-01-11 07:18:02  \n",
      "23484         Dresses     Dresses 2022-01-11 07:18:02  \n",
      "23485         Dresses     Dresses 2022-01-11 07:18:02  \n",
      "\n",
      "[19662 rows x 11 columns]\n"
     ]
    }
   ],
   "source": [
    "print(df)"
   ]
  },
  {
   "cell_type": "code",
   "execution_count": 29,
   "id": "ebc5c0ed-9fa6-45c7-827c-8087695f5972",
   "metadata": {},
   "outputs": [
    {
     "name": "stdout",
     "output_type": "stream",
     "text": [
      "Class\n",
      "Chemises             1\n",
      "Casual bottoms       1\n",
      "Trend              107\n",
      "Layering           115\n",
      "Intimates          120\n",
      "Legwear            131\n",
      "Sleep              174\n",
      "Shorts             260\n",
      "Outerwear          281\n",
      "Swim               293\n",
      "Lounge             574\n",
      "Jackets            598\n",
      "Skirts             796\n",
      "Fine gauge         927\n",
      "Jeans              970\n",
      "Pants             1157\n",
      "Sweaters          1218\n",
      "Blouses           2587\n",
      "Knits             3981\n",
      "Dresses           5371\n",
      "Name: count, dtype: int64\n"
     ]
    }
   ],
   "source": [
    "class_counts = df['Class'].value_counts().sort_values()\n",
    "\n",
    "# Afficher le résultat\n",
    "print(class_counts)"
   ]
  },
  {
   "cell_type": "code",
   "execution_count": 30,
   "id": "e0389ee2-fde7-414c-9b1f-cb1ed6bb8e80",
   "metadata": {},
   "outputs": [
    {
     "name": "stdout",
     "output_type": "stream",
     "text": [
      "['ClothingID', 'Age', 'Title', 'ReviewText', 'Rating', 'Recommended', 'Feedback', 'Division', 'Department', 'Class', 'DateChargement']\n"
     ]
    }
   ],
   "source": [
    "print(df.columns.tolist())\n"
   ]
  },
  {
   "cell_type": "code",
   "execution_count": 31,
   "id": "6fc4e48c-3130-478c-8342-935db438f5ff",
   "metadata": {},
   "outputs": [
    {
     "name": "stdout",
     "output_type": "stream",
     "text": [
      "Class\n",
      "Dresses     5371\n",
      "Knits       3981\n",
      "Blouses     2587\n",
      "Sweaters    1218\n",
      "Pants       1157\n",
      "Name: count, dtype: int64\n"
     ]
    },
    {
     "data": {
      "image/png": "[encoded data removed]",
      "text/plain": [
       "<Figure size 1200x800 with 1 Axes>"
      ]
     },
     "metadata": {},
     "output_type": "display_data"
    }
   ],
   "source": [
    "import pandas as pd\n",
    "import matplotlib.pyplot as plt\n",
    "import seaborn as sns\n",
    "# Visualisation\n",
    "plt.figure(figsize=(12, 8))\n",
    "\n",
    "Class_counts = df['Class'].value_counts().head(5)\n",
    "\n",
    "print(Class_counts)\n",
    "\n",
    "# Créer l'histogramme avec x comme indices et y comme les fréquences\n",
    "plt.bar(Class_counts.index,Class_counts.values , color='red')\n",
    "\n",
    "plt.title(\"Distribution des classes\", fontsize=16)\n",
    "plt.xlabel(\"Nombre classes\", fontsize=14)\n",
    "plt.ylabel(\"Nom de classe\", fontsize=14)\n",
    "plt.tight_layout()\n",
    "\n",
    "# Afficher le graphique\n",
    "plt.show()\n",
    "\n"
   ]
  },
  {
   "cell_type": "code",
   "execution_count": 32,
   "id": "b71be10b-3bd6-4ff0-b028-539e62c79c80",
   "metadata": {},
   "outputs": [
    {
     "name": "stdout",
     "output_type": "stream",
     "text": [
      "    Age  ClothingID\n",
      "0    18           4\n",
      "1    19          28\n",
      "2    20          91\n",
      "3    21          75\n",
      "4    22         106\n",
      "..  ...         ...\n",
      "72   91           3\n",
      "73   92           1\n",
      "74   93           2\n",
      "75   94           1\n",
      "76   99           1\n",
      "\n",
      "[77 rows x 2 columns]\n"
     ]
    }
   ],
   "source": [
    "result = df.groupby(\"Age\")[\"ClothingID\"].count().reset_index()\n",
    "\n",
    "print(result)"
   ]
  },
  {
   "cell_type": "code",
   "execution_count": 33,
   "id": "4529554b-3d15-446b-a814-437207749fae",
   "metadata": {},
   "outputs": [
    {
     "name": "stdout",
     "output_type": "stream",
     "text": [
      "Requirement already satisfied: pyodbc in c:\\users\\user\\anaconda3\\lib\\site-packages (5.0.1)\n",
      "Requirement already satisfied: sqlalchemy in c:\\users\\user\\anaconda3\\lib\\site-packages (2.0.25)\n",
      "Requirement already satisfied: pandas in c:\\users\\user\\anaconda3\\lib\\site-packages (2.1.4)\n",
      "Requirement already satisfied: typing-extensions>=4.6.0 in c:\\users\\user\\anaconda3\\lib\\site-packages (from sqlalchemy) (4.9.0)\n",
      "Requirement already satisfied: greenlet!=0.4.17 in c:\\users\\user\\anaconda3\\lib\\site-packages (from sqlalchemy) (3.0.1)\n",
      "Requirement already satisfied: numpy<2,>=1.23.2 in c:\\users\\user\\anaconda3\\lib\\site-packages (from pandas) (1.26.4)\n",
      "Requirement already satisfied: python-dateutil>=2.8.2 in c:\\users\\user\\anaconda3\\lib\\site-packages (from pandas) (2.8.2)\n",
      "Requirement already satisfied: pytz>=2020.1 in c:\\users\\user\\anaconda3\\lib\\site-packages (from pandas) (2023.3.post1)\n",
      "Requirement already satisfied: tzdata>=2022.1 in c:\\users\\user\\anaconda3\\lib\\site-packages (from pandas) (2023.3)\n",
      "Requirement already satisfied: six>=1.5 in c:\\users\\user\\anaconda3\\lib\\site-packages (from python-dateutil>=2.8.2->pandas) (1.16.0)\n"
     ]
    }
   ],
   "source": [
    "!pip install pyodbc sqlalchemy pandas\n",
    "\n"
   ]
  },
  {
   "cell_type": "code",
   "execution_count": 86,
   "id": "963b1c07-64f7-4f51-b3d0-39c9a9a2134a",
   "metadata": {},
   "outputs": [],
   "source": [
    "\n",
    "import pandas as pd\n",
    "\n",
    "import pyodbc\n",
    "\n",
    "\n",
    "\n",
    "cnxn = pyodbc.connect(\"DRIVER={SQL Server};\"\n",
    "                  \"SERVER=localhost;\"\n",
    "                  \"DATABASE= ACCIDENTSDW;\"\n",
    "                  \"TrustServerCertificate=no;\"\n",
    "                  \"Connection Timeout=60\")\n",
    "cursor = cnxn.cursor()\n",
    "\n",
    "try:\n",
    "    for index, row in df.iterrows():\n",
    "        cursor.execute(\"\"\"\n",
    "            INSERT INTO ClothingReviews (\n",
    "                ClothingID, Age, Title, ReviewText, Rating, Recommended,\n",
    "                Feedback, Division, Department, Class, DateChargement\n",
    "            )\n",
    "            VALUES (?, ?, ?, ?, ?, ?, ?, ?, ?, ?, ?)\n",
    "        \"\"\", \n",
    "        row[\"ClothingID\"], row[\"Age\"], row[\"Title\"], row[\"ReviewText\"], row[\"Rating\"], \n",
    "        row[\"Recommended\"], row[\"Feedback\"], row[\"Division\"], \n",
    "        row[\"Department\"], row[\"Class\"], row[\"DateChargement\"])\n",
    "    cnxn.commit()\n",
    "except Exception as e:\n",
    "    cnxn.rollback()  # Annule les modifications en cas d'erreur\n",
    "    print(f\"Erreur : {e}\")\n",
    "finally:\n",
    "    cursor.close()\n",
    "    cnxn.close()\n"
   ]
  },
  {
   "cell_type": "code",
   "execution_count": 72,
   "id": "1f9d9b32-ab74-4e88-b9b7-4a53ac769192",
   "metadata": {},
   "outputs": [
    {
     "name": "stdout",
     "output_type": "stream",
     "text": [
      "Index(['ClothingID', 'Age', 'Title', 'ReviewText', 'Rating', 'Recommended',\n",
      "       'Feedback', 'Division', 'Department', 'Class', 'DateChargement'],\n",
      "      dtype='object')\n"
     ]
    }
   ],
   "source": [
    "print(df.columns)"
   ]
  },
  {
   "cell_type": "code",
   "execution_count": 61,
   "id": "e915fc30-4705-4e89-9a98-afeca6ee74c2",
   "metadata": {},
   "outputs": [
    {
     "name": "stdout",
     "output_type": "stream",
     "text": [
      "1205\n"
     ]
    }
   ],
   "source": [
    "print(df['ClothingID'].max())\n",
    "\n"
   ]
  },
  {
   "cell_type": "code",
   "execution_count": 87,
   "id": "7caa80e2-ac03-47dd-8602-40f62fb08cdf",
   "metadata": {},
   "outputs": [],
   "source": [
    "next_clothing_id = df['ClothingID'].max() + 1\n",
    "\n",
    "# Nouvelle ligne à ajouter\n",
    "new_row = {\n",
    "    'ClothingID': df['ClothingID'].max() + 1,  # Suivi du ClothingID\n",
    "    'Age': 30,\n",
    "    'Title': 'Winter Coat',\n",
    "    'ReviewText': 'Keeps me warm in the coldest weather.',\n",
    "    'Rating': 5,\n",
    "    'Recommended': 1,\n",
    "    'Feedback': 12,\n",
    "    'Division': 'General',\n",
    "    'Department': 'Outerwear',\n",
    "    'Class': 'Coats',\n",
    "    'DateChargement': pd.to_datetime('2024-12-08', utc=True)\n",
    "}\n",
    "\n",
    "# Convertir le dictionnaire en DataFrame\n",
    "new_row_df = pd.DataFrame([new_row])\n",
    "\n",
    "# Concaténer les DataFrames\n",
    "df = pd.concat([df, new_row_df], ignore_index=True)"
   ]
  },
  {
   "cell_type": "code",
   "execution_count": 88,
   "id": "5827c42e-c1eb-4e1e-a877-29744af5918c",
   "metadata": {},
   "outputs": [
    {
     "name": "stdout",
     "output_type": "stream",
     "text": [
      "(19663, 11)\n",
      "Index(['ClothingID', 'Age', 'Title', 'ReviewText', 'Rating', 'Recommended',\n",
      "       'Feedback', 'Division', 'Department', 'Class', 'DateChargement'],\n",
      "      dtype='object')\n"
     ]
    }
   ],
   "source": [
    "print(df.shape)  # Nombre de lignes et colonnes\n",
    "print(df.columns)  # Liste des colonnes\n"
   ]
  },
  {
   "cell_type": "code",
   "execution_count": 76,
   "id": "ec718799-9da5-4d33-98a3-5d6c063abada",
   "metadata": {},
   "outputs": [
    {
     "name": "stdout",
     "output_type": "stream",
     "text": [
      "ClothingID         int64\n",
      "Age                int64\n",
      "Title             object\n",
      "ReviewText        object\n",
      "Rating             int64\n",
      "Recommended        int64\n",
      "Feedback           int64\n",
      "Division          object\n",
      "Department        object\n",
      "Class             object\n",
      "DateChargement    object\n",
      "dtype: object\n",
      "ClothingID                      int64\n",
      "Age                             int64\n",
      "Title                          object\n",
      "ReviewText                     object\n",
      "Rating                          int64\n",
      "Recommended                     int64\n",
      "Feedback                        int64\n",
      "Division                       object\n",
      "Department                     object\n",
      "Class                          object\n",
      "DateChargement    datetime64[ns, UTC]\n",
      "dtype: object\n"
     ]
    }
   ],
   "source": [
    "print(df.dtypes)  # Types de données dans df\n",
    "print(new_row_df.dtypes)  # Types de données dans new_row_df\n"
   ]
  },
  {
   "cell_type": "code",
   "execution_count": 81,
   "id": "2b81c671-4146-4728-b6a0-81230181e0e4",
   "metadata": {},
   "outputs": [
    {
     "name": "stdout",
     "output_type": "stream",
     "text": [
      "       ClothingID  Age                                              Title  \\\n",
      "0            1077   60                            Some major design flaws   \n",
      "1            1049   50                                   My favorite buy!   \n",
      "2             847   47                                   Flattering shirt   \n",
      "3            1080   49                            Not for the very petite   \n",
      "4             858   39                               Cagrcoal shimmer fun   \n",
      "...           ...  ...                                                ...   \n",
      "19658         862   48                         Wish it was made of cotton   \n",
      "19659        1104   31                              Cute, but see through   \n",
      "19660        1084   28  Very cute dress, perfect for summer parties an...   \n",
      "19661        1104   52                    Please make more like this one!   \n",
      "19662        1206   30                                        Winter Coat   \n",
      "\n",
      "                                              ReviewText  Rating  Recommended  \\\n",
      "0      I had such high hopes for this dress and reall...       3            0   \n",
      "1      I love, love, love this jumpsuit. it's fun, fl...       5            1   \n",
      "2      This shirt is very flattering to all due to th...       5            1   \n",
      "3      I love tracy reese dresses, but this one is no...       2            0   \n",
      "4      I aded this in my basket at hte last mintue to...       5            1   \n",
      "...                                                  ...     ...          ...   \n",
      "19658  It reminds me of maternity clothes. soft, stre...       3            1   \n",
      "19659  This fit well, but the top was very see throug...       3            0   \n",
      "19660  I bought this dress for a wedding i have this ...       3            1   \n",
      "19661  This dress in a lovely platinum is feminine an...       5            1   \n",
      "19662              Keeps me warm in the coldest weather.       5            1   \n",
      "\n",
      "       Feedback        Division Department    Class             DateChargement  \n",
      "0             0         General    Dresses  Dresses        2022-01-11 07:18:02  \n",
      "1             0  General Petite    Bottoms    Pants        2022-01-11 07:18:02  \n",
      "2             6         General       Tops  Blouses        2022-01-11 07:18:02  \n",
      "3             4         General    Dresses  Dresses        2022-01-11 07:18:02  \n",
      "4             1  General Petite       Tops    Knits        2022-01-11 07:18:02  \n",
      "...         ...             ...        ...      ...                        ...  \n",
      "19658         0  General Petite       Tops    Knits        2022-01-11 07:18:02  \n",
      "19659         1  General Petite    Dresses  Dresses        2022-01-11 07:18:02  \n",
      "19660         2         General    Dresses  Dresses        2022-01-11 07:18:02  \n",
      "19661        22  General Petite    Dresses  Dresses        2022-01-11 07:18:02  \n",
      "19662        12         General  Outerwear    Coats  2024-12-08 00:00:00+00:00  \n",
      "\n",
      "[19663 rows x 11 columns]\n"
     ]
    }
   ],
   "source": [
    "print(df)"
   ]
  },
  {
   "cell_type": "code",
   "execution_count": 77,
   "id": "a25cb0b7-ca2e-47dd-9b98-a3432ff4b787",
   "metadata": {},
   "outputs": [
    {
     "name": "stdout",
     "output_type": "stream",
     "text": [
      "1206\n"
     ]
    }
   ],
   "source": []
  },
  {
   "cell_type": "code",
   "execution_count": 90,
   "id": "943466e8-1159-44ee-b894-2be40e9a6c4b",
   "metadata": {},
   "outputs": [],
   "source": [
    "\n",
    "import pyodbc\n",
    "\n",
    "\n",
    "\n",
    "cnxn = pyodbc.connect(\"DRIVER={SQL Server};\"\n",
    "                  \"SERVER=localhost;\"\n",
    "                  \"DATABASE= ACCIDENTSDW;\"\n",
    "                  \"TrustServerCertificate=no;\"\n",
    "                  \"Connection Timeout=60\")\n",
    "cursor = cnxn.cursor()\n",
    "\n",
    "query = \"SELECT ClothingID FROM ClothingReviews\"\n",
    "cursor = cnxn.cursor()\n",
    "cursor.execute(query)\n",
    "\n",
    "\n",
    "\n",
    "# Récupérer les colonnes et les données\n",
    "columns = [column[0] for column in cursor.description]\n",
    "rows = cursor.fetchall()\n",
    "\n",
    "data_frame = pd.DataFrame.from_records(rows, columns=columns)\n",
    "new_rows = df[~df['ClothingID'].isin(data_frame['ClothingID'])]\n",
    "# Afficher un aperçu des données\n",
    "distinct_rows = new_rows.drop_duplicates()\n",
    "\n",
    "# Afficher les lignes distinctes\n",
    "\n",
    "\n",
    "cursor = cnxn.cursor()\n",
    "\n",
    "# Générer une requête d'insertion SQL pour les nouvelles lignes\n",
    "for index, row in distinct_rows.iterrows():\n",
    "    cursor.execute(\"\"\"\n",
    "        INSERT INTO ClothingReviews (ClothingID, Age, Title, ReviewText, Rating, Recommended,\n",
    "                                      Feedback, Division, Department, Class, DateChargement)\n",
    "        VALUES (?, ?, ?, ?, ?, ?, ?, ?, ?, ?, ?)\n",
    "    \"\"\", row['ClothingID'], row['Age'], row['Title'], row['ReviewText'], row['Rating'],\n",
    "       row['Recommended'], row['Feedback'], row['Division'], row['Department'],\n",
    "       row['Class'], row['DateChargement'])\n",
    "\n",
    "# Commit des modifications dans la base de données\n",
    "cnxn.commit()\n",
    "\n",
    "# Fermer la connexion\n",
    "cnxn.close()\n"
   ]
  },
  {
   "cell_type": "code",
   "execution_count": 91,
   "id": "a308cbb9-8763-4752-a64b-0b17ed110a28",
   "metadata": {},
   "outputs": [
    {
     "name": "stdout",
     "output_type": "stream",
     "text": [
      "       ClothingID  Age        Title                             ReviewText  \\\n",
      "19662        1206   30  Winter Coat  Keeps me warm in the coldest weather.   \n",
      "\n",
      "       Rating  Recommended  Feedback Division Department  Class  \\\n",
      "19662       5            1        12  General  Outerwear  Coats   \n",
      "\n",
      "                  DateChargement  \n",
      "19662  2024-12-08 00:00:00+00:00  \n"
     ]
    }
   ],
   "source": [
    "print(df[df['ClothingID'] == df['ClothingID'].max()])"
   ]
  },
  {
   "cell_type": "code",
   "execution_count": 92,
   "id": "7ffb773c-02a1-4bd8-bba5-25414ec9f420",
   "metadata": {},
   "outputs": [
    {
     "data": {
      "text/plain": [
       "'C:\\\\Users\\\\user'"
      ]
     },
     "execution_count": 92,
     "metadata": {},
     "output_type": "execute_result"
    }
   ],
   "source": [
    "pwd"
   ]
  },
  {
   "cell_type": "code",
   "execution_count": null,
   "id": "78c57ba3-b1c7-4d70-8e71-2e9527cd53e1",
   "metadata": {},
   "outputs": [],
   "source": []
  }
 ],
 "metadata": {
  "kernelspec": {
   "display_name": "Python 3 (ipykernel)",
   "language": "python",
   "name": "python3"
  },
  "language_info": {
   "codemirror_mode": {
    "name": "ipython",
    "version": 3
   },
   "file_extension": ".py",
   "mimetype": "text/x-python",
   "name": "python",
   "nbconvert_exporter": "python",
   "pygments_lexer": "ipython3",
   "version": "3.11.7"
  }
 },
 "nbformat": 4,
 "nbformat_minor": 5
}
